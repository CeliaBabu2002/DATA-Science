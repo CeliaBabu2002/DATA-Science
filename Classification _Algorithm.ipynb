{
 "cells": [
  {
   "cell_type": "markdown",
   "metadata": {},
   "source": [
    "# Classification Alogrithm\n",
    "\n",
    "- The Classification Algorithm is used to indentify the category of new observations on the basis of training data\n",
    "\n",
    "- In Classification ,a program learns from the given dataset or observations and then classifies new observation into a number of classes or groups\n",
    "\n",
    "- if the target feature is in discrete or in classified form like 0,1 or true,false or cat,dog\n"
   ]
  },
  {
   "cell_type": "markdown",
   "metadata": {},
   "source": [
    "# Types of Classification model\n",
    " - Linear Model \n",
    " - NOn Linear Model\n",
    "\n",
    " # Linear model\n",
    " data that can be linearly separated belong in Linear Model\n",
    "\n",
    " - Logistic Regression\n",
    " - Support Vector Machine\n",
    "\n",
    " # Non Linear Model\n",
    "\n",
    " - K-Nearest Neighbour\n",
    " -  SVM\n",
    " - Decision Tree\n",
    " - Random Forest\n",
    " - Navie Bayes\n",
    "\n",
    "\n",
    " Here Naive Bayes and Logistic Regression works on Classification model only ,other work on Regression too"
   ]
  },
  {
   "cell_type": "markdown",
   "metadata": {},
   "source": [
    "# Evaluating Classification Model\n",
    "\n",
    "- Log Loss or Cross-Entropy Loss\n",
    "- Confusion MATRIX\n",
    "- AUC-ROC curve"
   ]
  }
 ],
 "metadata": {
  "language_info": {
   "name": "python"
  }
 },
 "nbformat": 4,
 "nbformat_minor": 2
}
