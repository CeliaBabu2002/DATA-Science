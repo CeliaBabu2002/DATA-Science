{
 "cells": [
  {
   "cell_type": "markdown",
   "metadata": {},
   "source": [
    "# Cost Function\n",
    "\n",
    "- Cost Function is an important parameter that determine how well a machine model performs for a given dataset\n",
    "- Cost Function is a measure of how wrong the model is in estimating the relation between x(input) and y(output) parameter.\n",
    "\n",
    "\n",
    "helpsto find the best fit line or in other like plane..."
   ]
  },
  {
   "cell_type": "markdown",
   "metadata": {},
   "source": [
    "# Cost Function is divided into two\n",
    "- Regression Cost fn\n",
    "- Classification Cost fn"
   ]
  },
  {
   "cell_type": "markdown",
   "metadata": {},
   "source": [
    "# Regression Cost Fn\n",
    "\n",
    "Regression model are used to make a prediction for the continous variable\n",
    "\n",
    "- MSE (Mean Square Error)\n",
    "- RMSE (Root Mean Square Error)\n",
    "- MAE (Mean Absolute Error)\n",
    "- R^2 Accuracy"
   ]
  },
  {
   "cell_type": "markdown",
   "metadata": {},
   "source": [
    "# Classification Model is divided into two\n",
    "\n",
    "- Binary Classification Cost Function\n",
    "    Classification models are used to make predicition of catehorical variables,such as predictions for 0 and 1,cat and dog\n",
    "- Multi-class Classification Cost Function\n",
    "    In multi-class used in classification problem for which instance are allocated to one or more than two classes\n",
    "    eg cat,dog,cow,rat....here not just two like cat and dog there are more \n",
    "\n",
    "    for that they use\n",
    "    -Binary Cross Entropy Cost Fn\n",
    "    -Log LOSS fn\n"
   ]
  }
 ],
 "metadata": {
  "language_info": {
   "name": "python"
  }
 },
 "nbformat": 4,
 "nbformat_minor": 2
}
