{
 "cells": [
  {
   "cell_type": "markdown",
   "metadata": {},
   "source": [
    "Hypothesis Testing are:\n",
    "Z test\n",
    "T test\n",
    "chi-Square test\n",
    "\n",
    "here Z test is used if it satisfy these conditions\n",
    "* when we have mean and standard deviation of the population\n",
    "* when we have a large sample size (n>30) and the population is normally distributed\n",
    "formula\n",
    "x̄ represents mean of sample\n",
    "σ represents standard deviation of population\n",
    "μ represents mean of population\n",
    "n no of samples\n",
    "Z = (x̄ - μ) / (σ / √n)"
   ]
  },
  {
   "cell_type": "markdown",
   "metadata": {},
   "source": [
    "Question:\n",
    "Imagine you work for an e-commerce company, and you twam is responsible for analyzing the customer purchase data.You want to dtermine whether a new website desgin has led to a significant increase in the average purchase amount as compared to the old design.\n",
    "\n",
    "Data:You have collected data from random sample of 30 customers who made purchases on the old website design and 30 customers who made purchases on the new website desgin.You have sample means ,sample standard deviations and sample sizes for both group.\n",
    "old design data=[45.2,42.8,38.9,43.5,41.0,44.6,40.5,42.7,39.8,41.4,44.3,39.7,42.1,40.6,43.0,42.2,41.5,39.6,44.0,43.1,38.7,43.9,42.0,41.9,42.8,43.7,41.3,40.9,42.5,41.6]\n",
    "\n",
    "new design data=[48.5,49.1,50.2,47.8,49.9,48.0,50.5,49.8,49.6,48.2,48.9,49.7,50.3,49.4,50.1,48.6,43.3,49.0,50.0,48.4,49.3,39.6,45.9,38.6,49.6,46.4,48.9,36.6,46.2,39.6,39.8,46.2,56.5]\n",
    "\n",
    "Population std=2.5"
   ]
  },
  {
   "cell_type": "code",
   "execution_count": 7,
   "metadata": {},
   "outputs": [],
   "source": [
    "import numpy as np\n",
    "import scipy.stats as st\n"
   ]
  },
  {
   "cell_type": "code",
   "execution_count": 9,
   "metadata": {},
   "outputs": [],
   "source": [
    "old_design_data=np.array([45.2,42.8,38.9,43.5,41.0,44.6,40.5,42.7,39.8,41.4,44.3,39.7,42.1,40.6,43.0,42.2,41.5,39.6,44.0,43.1,38.7,43.9,42.0,41.9,42.8,43.7,41.3,40.9,42.5,41.6])\n",
    "new_design_data=np.array([48.5,49.1,50.2,47.8,49.9,48.0,50.5,49.8,49.6,48.2,48.9,49.7,50.3,49.4,50.1,48.6,43.3,49.0,50.0,48.4,49.3,39.6,45.9,38.6,49.6,46.4,48.9,36.6,46.2,39.6,39.8,46.2,56.5])\n"
   ]
  },
  {
   "cell_type": "code",
   "execution_count": null,
   "metadata": {},
   "outputs": [],
   "source": [
    "pop_std=2.5\n",
    "alp=0.05\n",
    "n_sp=len(new_design_data)"
   ]
  },
  {
   "cell_type": "code",
   "execution_count": 15,
   "metadata": {},
   "outputs": [],
   "source": [
    "xo=np.mean(old_design_data)\n",
    "xn=np.mean(new_design_data)"
   ]
  },
  {
   "cell_type": "code",
   "execution_count": null,
   "metadata": {},
   "outputs": [
    {
     "data": {
      "text/plain": [
       "12.305201344196377"
      ]
     },
     "execution_count": 19,
     "metadata": {},
     "output_type": "execute_result"
    }
   ],
   "source": [
    "#here we consider the mean of population of new and old same so it becomes zero\n",
    "z_calc= (xn-xo)/(pop_std/np.sqrt(n_sp))\n",
    "z_calc"
   ]
  },
  {
   "cell_type": "code",
   "execution_count": 21,
   "metadata": {},
   "outputs": [
    {
     "data": {
      "text/plain": [
       "1.6448536269514722"
      ]
     },
     "execution_count": 21,
     "metadata": {},
     "output_type": "execute_result"
    }
   ],
   "source": [
    "z_table1 = st.norm.ppf(1-alp)\n",
    "z_table1"
   ]
  },
  {
   "cell_type": "code",
   "execution_count": null,
   "metadata": {},
   "outputs": [
    {
     "name": "stdout",
     "output_type": "stream",
     "text": [
      "ha is correct\n"
     ]
    }
   ],
   "source": [
    "#here ha is alternative hypothesis and h0 is null hyothesis\n",
    "if z_calc > z_table1:\n",
    "    print(\"ha is correct\")\n",
    "else:\n",
    "    print(\"h0 is incorrect\")"
   ]
  },
  {
   "cell_type": "markdown",
   "metadata": {},
   "source": [
    "Question:\n",
    "A teacher claims that the mean score of the student in his class is greater than 82 with standard deviation of 20.if a sample of 81 students are selected with mean score of 90"
   ]
  },
  {
   "cell_type": "code",
   "execution_count": null,
   "metadata": {},
   "outputs": [],
   "source": [
    "s_x = 90\n",
    "p_x = 82\n",
    "p_std = 20\n",
    "n = 81\n",
    "ap = 0.05 #alpha"
   ]
  },
  {
   "cell_type": "code",
   "execution_count": 4,
   "metadata": {},
   "outputs": [
    {
     "data": {
      "text/plain": [
       "3.5999999999999996"
      ]
     },
     "execution_count": 4,
     "metadata": {},
     "output_type": "execute_result"
    }
   ],
   "source": [
    "z_cal = (s_x - p_x)/(p_std/np.sqrt(n))\n",
    "z_cal"
   ]
  },
  {
   "cell_type": "code",
   "execution_count": 5,
   "metadata": {},
   "outputs": [
    {
     "data": {
      "text/plain": [
       "1.959963984540054"
      ]
     },
     "execution_count": 5,
     "metadata": {},
     "output_type": "execute_result"
    }
   ],
   "source": [
    "z_table = st.norm.ppf(1-ap)\n",
    "z_table"
   ]
  },
  {
   "cell_type": "code",
   "execution_count": null,
   "metadata": {},
   "outputs": [
    {
     "name": "stdout",
     "output_type": "stream",
     "text": [
      "Ha is corect\n"
     ]
    }
   ],
   "source": [
    "#here ha is alternative hypothesis and h0 is null hyothesis\n",
    "if z_cal > z_table:\n",
    "    print(\"Ha is corect\")\n",
    "else:\n",
    "    print(\"H0 is correct\")"
   ]
  }
 ],
 "metadata": {
  "kernelspec": {
   "display_name": "Python 3",
   "language": "python",
   "name": "python3"
  },
  "language_info": {
   "codemirror_mode": {
    "name": "ipython",
    "version": 3
   },
   "file_extension": ".py",
   "mimetype": "text/x-python",
   "name": "python",
   "nbconvert_exporter": "python",
   "pygments_lexer": "ipython3",
   "version": "3.12.2"
  }
 },
 "nbformat": 4,
 "nbformat_minor": 2
}
